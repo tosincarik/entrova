{
 "cells": [
  {
   "cell_type": "code",
   "execution_count": 1,
   "id": "803fb956",
   "metadata": {},
   "outputs": [],
   "source": [
    "import pandas as pd\n",
    "import numpy as np\n",
    "from sqlalchemy import create_engine\n",
    "\n",
    "\n"
   ]
  },
  {
   "cell_type": "code",
   "execution_count": 3,
   "id": "714859f7",
   "metadata": {},
   "outputs": [
    {
     "name": "stdout",
     "output_type": "stream",
     "text": [
      "(1,)\n"
     ]
    }
   ],
   "source": [
    "from sqlalchemy import create_engine, text  # import text\n",
    "\n",
    "# -----------------------------\n",
    "# SQL Server Connection (Windows Authentication)\n",
    "# -----------------------------\n",
    "server = r'OLUWATOSIN\\SQLEXPRESS'\n",
    "database = 'EntrovaDB'\n",
    "driver = 'ODBC Driver 17 for SQL Server'\n",
    "\n",
    "connection_string = f\"mssql+pyodbc://@{server}/{database}?driver={driver}&trusted_connection=yes\"\n",
    "engine = create_engine(connection_string)\n",
    "\n",
    "# Test the connection\n",
    "with engine.connect() as conn:\n",
    "    result = conn.execute(text(\"SELECT 1\"))  # wrap SQL in text()\n",
    "    print(result.fetchone())  # Should output (1,)\n"
   ]
  },
  {
   "cell_type": "code",
   "execution_count": 4,
   "id": "43f856ea",
   "metadata": {},
   "outputs": [
    {
     "name": "stdout",
     "output_type": "stream",
     "text": [
      "Data extracted from SQL Server successfully!\n"
     ]
    }
   ],
   "source": [
    "# -----------------------------\n",
    "# 1. Extract\n",
    "# -----------------------------\n",
    "users = pd.read_sql(\"SELECT * FROM Users\", con=engine)\n",
    "employers = pd.read_sql(\"SELECT * FROM Employers\", con=engine)\n",
    "demo_sessions = pd.read_sql(\"SELECT * FROM DemoSessions\", con=engine)\n",
    "engagement = pd.read_sql(\"SELECT * FROM Engagement\", con=engine)\n",
    "\n",
    "print(\"Data extracted from SQL Server successfully!\")\n",
    "\n"
   ]
  },
  {
   "cell_type": "code",
   "execution_count": 5,
   "id": "2cb3a0a4",
   "metadata": {},
   "outputs": [
    {
     "name": "stdout",
     "output_type": "stream",
     "text": [
      "Data transformed successfully!\n"
     ]
    }
   ],
   "source": [
    "# -----------------------------\n",
    "# 2. Transform\n",
    "# -----------------------------\n",
    "# Example transformations:\n",
    "# 2a. Merge user info with engagement\n",
    "user_engagement = users.merge(engagement, on='user_id', how='left')\n",
    "\n",
    "# 2b. Merge demo session data\n",
    "user_demo = demo_sessions.merge(user_engagement, on='user_id', how='left')\n",
    "\n",
    "# 2c. Merge employer info\n",
    "full_data = user_demo.merge(employers, left_on='employer_id', right_on='employer_id', how='left')\n",
    "\n",
    "# 2d. Feature engineering\n",
    "full_data['days_since_signup'] = (pd.to_datetime('2025-03-15') - pd.to_datetime(full_data['signup_date'])).dt.days\n",
    "full_data['engagement_score'] = full_data['logins_last_30_days']*0.4 + full_data['messages_sent']*0.6\n",
    "\n",
    "print(\"Data transformed successfully!\")\n",
    "\n"
   ]
  },
  {
   "cell_type": "code",
   "execution_count": 6,
   "id": "579d31b4",
   "metadata": {},
   "outputs": [
    {
     "name": "stdout",
     "output_type": "stream",
     "text": [
      "Transformed data loaded to CSV for analytics/ML!\n",
      "Transformed data loaded back into SQL Server table 'FullData'.\n"
     ]
    }
   ],
   "source": [
    "# -----------------------------\n",
    "# 3. Load\n",
    "# -----------------------------\n",
    "# Save cleaned/transformed data to folder\n",
    "full_data.to_csv('../etl/transformed/full_data.csv', index=False)\n",
    "print(\"Transformed data loaded to CSV for analytics/ML!\")\n",
    "\n",
    "# Optional: Load back into SQL Server into a new table\n",
    "full_data.to_sql('FullData', con=engine, if_exists='replace', index=False)\n",
    "print(\"Transformed data loaded back into SQL Server table 'FullData'.\")"
   ]
  }
 ],
 "metadata": {
  "kernelspec": {
   "display_name": "Python 3",
   "language": "python",
   "name": "python3"
  },
  "language_info": {
   "codemirror_mode": {
    "name": "ipython",
    "version": 3
   },
   "file_extension": ".py",
   "mimetype": "text/x-python",
   "name": "python",
   "nbconvert_exporter": "python",
   "pygments_lexer": "ipython3",
   "version": "3.11.0"
  }
 },
 "nbformat": 4,
 "nbformat_minor": 5
}
